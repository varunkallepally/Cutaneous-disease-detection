{
  "nbformat": 4,
  "nbformat_minor": 0,
  "metadata": {
    "colab": {
      "provenance": [],
      "machine_shape": "hm",
      "gpuType": "V100"
    },
    "kernelspec": {
      "name": "python3",
      "display_name": "Python 3"
    },
    "language_info": {
      "name": "python"
    },
    "accelerator": "GPU"
  },
  "cells": [
    {
      "cell_type": "code",
      "execution_count": 1,
      "metadata": {
        "colab": {
          "base_uri": "https://localhost:8080/"
        },
        "id": "kYA0yzJGVhXo",
        "outputId": "125c5add-17f6-4e3a-97e4-92ccfd5c27a1"
      },
      "outputs": [
        {
          "output_type": "stream",
          "name": "stdout",
          "text": [
            "Downloading...\n",
            "From (original): https://drive.google.com/uc?id=1SCilGtXlIvTMFV3PJMhn2-d-T02ubRhW\n",
            "From (redirected): https://drive.google.com/uc?id=1SCilGtXlIvTMFV3PJMhn2-d-T02ubRhW&confirm=t&uuid=c2da2769-02f7-4cd2-9ed9-d02d5b10c60a\n",
            "To: /content/skin-cancer9-classesisic.zip\n",
            "100% 824M/824M [00:16<00:00, 48.9MB/s]\n"
          ]
        }
      ],
      "source": [
        "!gdown 1SCilGtXlIvTMFV3PJMhn2-d-T02ubRhW"
      ]
    },
    {
      "cell_type": "code",
      "source": [
        "!unzip /content/skin-cancer9-classesisic.zip"
      ],
      "metadata": {
        "id": "ThscZO2GVqQr"
      },
      "execution_count": null,
      "outputs": []
    },
    {
      "cell_type": "code",
      "source": [
        "pip install tensorflow_federated"
      ],
      "metadata": {
        "id": "fnPB7kwBV44h"
      },
      "execution_count": null,
      "outputs": []
    },
    {
      "cell_type": "code",
      "source": [
        "import pandas as pd\n",
        "import os\n",
        "import glob\n",
        "from sklearn.preprocessing import LabelEncoder\n",
        "from skimage import io\n",
        "import cv2\n",
        "import numpy as np\n",
        "\n",
        "# Define the root directory where your data is stored\n",
        "root_dir = 'Skin cancer ISIC The International Skin Imaging Collaboration'\n",
        "\n",
        "# Initialize empty lists to store file paths and corresponding labels\n",
        "image_paths = []\n",
        "skin_diseases = []\n",
        "\n",
        "# Iterate through each folder within train and test directories\n",
        "for subdir in ['Train', 'Test']:\n",
        "    # Iterate through each skin disease folder\n",
        "    for disease_folder in os.listdir(os.path.join(root_dir, subdir)):\n",
        "        # Construct path to the current disease folder\n",
        "        disease_folder_path = os.path.join(root_dir, subdir, disease_folder)\n",
        "\n",
        "        # Iterate through each image file within the disease folder\n",
        "        for img_path in glob.glob(os.path.join(disease_folder_path, '*.jpg')):\n",
        "            # Append the image path\n",
        "            image_paths.append(img_path)\n",
        "            # Append the corresponding skin disease label\n",
        "            skin_diseases.append(disease_folder)\n",
        "\n",
        "# Create a DataFrame from the lists\n",
        "df = pd.DataFrame({'image_path': image_paths, 'skin_disease': skin_diseases})\n",
        "def read_image(image_path):\n",
        "    target_size=((784, 3))\n",
        "    img_array = cv2.imread(img_path, cv2.IMREAD_GRAYSCALE)\n",
        "\n",
        "    # Resize image to target size\n",
        "    img_resize = cv2.resize(img_array, target_size)\n",
        "\n",
        "    # Normalize pixel values to [0, 1]\n",
        "    img_normalize = img_resize.astype(np.float32) / 255.0\n",
        "\n",
        "    return img_normalize\n",
        "\n",
        "# Apply the read_image function to create the 'image_data' column\n",
        "df['image_data'] = df['image_path'].apply(read_image)\n",
        "\n",
        "# Label encode the 'skin_disease' column\n",
        "label_encoder = LabelEncoder()\n",
        "df['skin_disease_encoded'] = label_encoder.fit_transform(df['skin_disease'])\n",
        "\n",
        "# Display the first few rows of the DataFrame\n",
        "print(df.head())"
      ],
      "metadata": {
        "colab": {
          "base_uri": "https://localhost:8080/"
        },
        "id": "sTSV7QA7V2qy",
        "outputId": "9b659198-93b9-4747-b8be-5207c66b1033"
      },
      "execution_count": 52,
      "outputs": [
        {
          "output_type": "stream",
          "name": "stdout",
          "text": [
            "                                          image_path  \\\n",
            "0  Skin cancer ISIC The International Skin Imagin...   \n",
            "1  Skin cancer ISIC The International Skin Imagin...   \n",
            "2  Skin cancer ISIC The International Skin Imagin...   \n",
            "3  Skin cancer ISIC The International Skin Imagin...   \n",
            "4  Skin cancer ISIC The International Skin Imagin...   \n",
            "\n",
            "                 skin_disease  \\\n",
            "0  pigmented benign keratosis   \n",
            "1  pigmented benign keratosis   \n",
            "2  pigmented benign keratosis   \n",
            "3  pigmented benign keratosis   \n",
            "4  pigmented benign keratosis   \n",
            "\n",
            "                                          image_data  skin_disease_encoded  \n",
            "0  [[0.61960787, 0.61960787, 0.61960787, 0.615686...                     5  \n",
            "1  [[0.61960787, 0.61960787, 0.61960787, 0.615686...                     5  \n",
            "2  [[0.61960787, 0.61960787, 0.61960787, 0.615686...                     5  \n",
            "3  [[0.61960787, 0.61960787, 0.61960787, 0.615686...                     5  \n",
            "4  [[0.61960787, 0.61960787, 0.61960787, 0.615686...                     5  \n"
          ]
        }
      ]
    },
    {
      "cell_type": "code",
      "source": [
        "columns_to_remove = ['image_path', 'skin_disease']\n",
        "\n",
        "# Drop the specified columns\n",
        "df.drop(columns=columns_to_remove, inplace=True)\n",
        "\n",
        "# Display the DataFrame after removing columns\n",
        "print(df)"
      ],
      "metadata": {
        "colab": {
          "base_uri": "https://localhost:8080/"
        },
        "id": "dRIkx6DLWfD7",
        "outputId": "52447aa3-2487-4e41-c17e-4b80f83baa43"
      },
      "execution_count": 53,
      "outputs": [
        {
          "output_type": "stream",
          "name": "stdout",
          "text": [
            "                                             image_data  skin_disease_encoded\n",
            "0     [[0.61960787, 0.61960787, 0.61960787, 0.615686...                     5\n",
            "1     [[0.61960787, 0.61960787, 0.61960787, 0.615686...                     5\n",
            "2     [[0.61960787, 0.61960787, 0.61960787, 0.615686...                     5\n",
            "3     [[0.61960787, 0.61960787, 0.61960787, 0.615686...                     5\n",
            "4     [[0.61960787, 0.61960787, 0.61960787, 0.615686...                     5\n",
            "...                                                 ...                   ...\n",
            "2352  [[0.61960787, 0.61960787, 0.61960787, 0.615686...                     1\n",
            "2353  [[0.61960787, 0.61960787, 0.61960787, 0.615686...                     1\n",
            "2354  [[0.61960787, 0.61960787, 0.61960787, 0.615686...                     1\n",
            "2355  [[0.61960787, 0.61960787, 0.61960787, 0.615686...                     1\n",
            "2356  [[0.61960787, 0.61960787, 0.61960787, 0.615686...                     1\n",
            "\n",
            "[2357 rows x 2 columns]\n"
          ]
        }
      ]
    },
    {
      "cell_type": "code",
      "source": [
        "import random\n",
        "\n",
        "num_client = 5\n",
        "\n",
        "df[\"client\"] = [\"client_{}\".format(random.randint(1, num_client)) for _ in range(df.shape[0])]"
      ],
      "metadata": {
        "id": "PA3VzFHvWjzS"
      },
      "execution_count": 54,
      "outputs": []
    },
    {
      "cell_type": "code",
      "source": [
        "client_id_colname = 'client'\n",
        "\n",
        "client_ids = df[client_id_colname].unique()\n",
        "\n",
        "train_client_ids = pd.DataFrame(client_ids).sample(frac=0.8).values.ravel().tolist()\n",
        "test_client_ids = [x for x in client_ids if x not in train_client_ids]"
      ],
      "metadata": {
        "id": "Q8giu0GqWljy"
      },
      "execution_count": 55,
      "outputs": []
    },
    {
      "cell_type": "code",
      "source": [
        "import nest_asyncio\n",
        "nest_asyncio.apply()"
      ],
      "metadata": {
        "id": "QQ_jxsHLWnca"
      },
      "execution_count": 56,
      "outputs": []
    },
    {
      "cell_type": "code",
      "source": [
        "%load_ext tensorboard"
      ],
      "metadata": {
        "colab": {
          "base_uri": "https://localhost:8080/"
        },
        "id": "iXNbcGGjWpLy",
        "outputId": "3426a6db-9782-4a3f-cf78-d007674b1045"
      },
      "execution_count": 57,
      "outputs": [
        {
          "output_type": "stream",
          "name": "stdout",
          "text": [
            "The tensorboard extension is already loaded. To reload it, use:\n",
            "  %reload_ext tensorboard\n"
          ]
        }
      ]
    },
    {
      "cell_type": "code",
      "source": [
        "train_client_ids"
      ],
      "metadata": {
        "colab": {
          "base_uri": "https://localhost:8080/"
        },
        "id": "bz502A7SWqrR",
        "outputId": "db319daf-ea46-4c5b-c968-6071c897eacf"
      },
      "execution_count": 58,
      "outputs": [
        {
          "output_type": "execute_result",
          "data": {
            "text/plain": [
              "['client_3', 'client_4', 'client_5', 'client_1']"
            ]
          },
          "metadata": {},
          "execution_count": 58
        }
      ]
    },
    {
      "cell_type": "code",
      "source": [
        "from sklearn.model_selection import train_test_split\n",
        "\n",
        "train_df, test_df = train_test_split(df, test_size=0.3, random_state=42)"
      ],
      "metadata": {
        "id": "ttSDlNLCWsF6"
      },
      "execution_count": 59,
      "outputs": []
    },
    {
      "cell_type": "code",
      "source": [
        "features =\"image_data\""
      ],
      "metadata": {
        "id": "kZ0JH0KmWuLB"
      },
      "execution_count": 60,
      "outputs": []
    },
    {
      "cell_type": "code",
      "source": [
        "from collections import OrderedDict\n",
        "import tensorflow as tf\n",
        "import numpy as np\n",
        "\n",
        "NUM_EPOCHS = 1\n",
        "SHUFFLE_BUFFER = 100\n",
        "\n",
        "def create_tf_dataset_for_client_fn(client_id):\n",
        "    client_data = dataframe[dataframe[client_id_colname] == client_id]\n",
        "    client_data_dict = OrderedDict()\n",
        "    client_data_dict[\"image_data\"] = np.array(client_data['image_data'].values.tolist(), dtype=\"float32\")\n",
        "    client_data_dict[\"skin_disease_encoded\"] = np.array(client_data['skin_disease_encoded'].values.tolist(), dtype=\"int32\")\n",
        "\n",
        "    dataset = tf.data.Dataset.from_tensor_slices(client_data_dict)\n",
        "    dataset = dataset.shuffle(SHUFFLE_BUFFER).batch(1).repeat(NUM_EPOCHS)\n",
        "    return dataset"
      ],
      "metadata": {
        "id": "aelpV29KWvvZ"
      },
      "execution_count": 61,
      "outputs": []
    },
    {
      "cell_type": "code",
      "source": [
        "import tensorflow_federated as tff"
      ],
      "metadata": {
        "id": "JOxooqvIWxb6"
      },
      "execution_count": 62,
      "outputs": []
    },
    {
      "cell_type": "code",
      "source": [
        "dataframe = train_df\n",
        "train_data = tff.simulation.datasets.ClientData.from_clients_and_tf_fn(\n",
        "    client_ids=train_client_ids,\n",
        "    serializable_dataset_fn=create_tf_dataset_for_client_fn)\n",
        "\n",
        "dataframe = test_df\n",
        "test_data = tff.simulation.datasets.ClientData.from_clients_and_tf_fn(\n",
        "    client_ids=test_client_ids,\n",
        "    serializable_dataset_fn=create_tf_dataset_for_client_fn)"
      ],
      "metadata": {
        "id": "VSaLWzr0Wy-y"
      },
      "execution_count": 63,
      "outputs": []
    },
    {
      "cell_type": "code",
      "source": [
        "train_data.element_type_structure"
      ],
      "metadata": {
        "colab": {
          "base_uri": "https://localhost:8080/"
        },
        "id": "UhNvF0QPW0gy",
        "outputId": "9bfbf1bd-e873-47c8-a699-2dfd8c43c0b5"
      },
      "execution_count": 64,
      "outputs": [
        {
          "output_type": "execute_result",
          "data": {
            "text/plain": [
              "OrderedDict([('image_data',\n",
              "              TensorSpec(shape=(None, 3, 784), dtype=tf.float32, name=None)),\n",
              "             ('skin_disease_encoded',\n",
              "              TensorSpec(shape=(None,), dtype=tf.int32, name=None))])"
            ]
          },
          "metadata": {},
          "execution_count": 64
        }
      ]
    },
    {
      "cell_type": "code",
      "source": [
        "import collections\n",
        "\n",
        "NUM_EPOCHS = 1\n",
        "BATCH_SIZE = 8\n",
        "SHUFFLE_BUFFER = 100\n",
        "PREFETCH_BUFFER = 10\n",
        "\n",
        "def preprocess(dataset):\n",
        "    def batch_format_fn(element):\n",
        "        return collections.OrderedDict(x=tf.reshape(element['image_data'], [-1,28,28,3]),\n",
        "                                       y=tf.reshape(element['skin_disease_encoded'], [-1, 1]))\n",
        "\n",
        "    return dataset.repeat(NUM_EPOCHS).shuffle(SHUFFLE_BUFFER, seed=1).batch(\n",
        "      BATCH_SIZE).map(batch_format_fn).prefetch(PREFETCH_BUFFER)"
      ],
      "metadata": {
        "id": "2mW0F8mrW1-q"
      },
      "execution_count": 65,
      "outputs": []
    },
    {
      "cell_type": "code",
      "source": [
        "from tqdm import tqdm\n",
        "\n",
        "def make_federated_data(client_data, client_ids):\n",
        "    return [preprocess(client_data.create_tf_dataset_for_client(x)) for x in tqdm(client_ids)]"
      ],
      "metadata": {
        "id": "onqFhzW4W4_C"
      },
      "execution_count": 66,
      "outputs": []
    },
    {
      "cell_type": "code",
      "source": [
        "NUM_CLIENTS = len(np.unique(train_df[client_id_colname]))\n",
        "\n",
        "sample_clients = train_data.client_ids[0:NUM_CLIENTS]\n",
        "\n",
        "federated_train_data = make_federated_data(train_data, sample_clients)\n",
        "\n",
        "print('Number of client datasets: {l}'.format(l=len(federated_train_data)))\n",
        "print('First dataset: {d}'.format(d=federated_train_data[0]))"
      ],
      "metadata": {
        "colab": {
          "base_uri": "https://localhost:8080/"
        },
        "id": "dA8xnLstW66D",
        "outputId": "3d064db8-8b2a-43f3-b09c-07db8502da19"
      },
      "execution_count": 67,
      "outputs": [
        {
          "output_type": "stream",
          "name": "stderr",
          "text": [
            "100%|██████████| 4/4 [00:00<00:00, 72.61it/s]"
          ]
        },
        {
          "output_type": "stream",
          "name": "stdout",
          "text": [
            "Number of client datasets: 4\n",
            "First dataset: <_PrefetchDataset element_spec=OrderedDict([('x', TensorSpec(shape=(None, 28, 28, 3), dtype=tf.float32, name=None)), ('y', TensorSpec(shape=(None, 1), dtype=tf.int32, name=None))])>\n"
          ]
        },
        {
          "output_type": "stream",
          "name": "stderr",
          "text": [
            "\n"
          ]
        }
      ]
    },
    {
      "cell_type": "code",
      "source": [
        "import tensorflow as tf\n",
        "from tensorflow.keras import layers, models\n",
        "input_shape = (28, 28, 3)\n",
        "num_classes = 9\n",
        "def create_keras_model():\n",
        "    model = models.Sequential([\n",
        "        layers.Conv2D(32, (3, 3), activation='relu', input_shape=input_shape),\n",
        "        layers.MaxPooling2D((2, 2)),\n",
        "        layers.Conv2D(64, (3, 3), activation='relu'),\n",
        "        layers.MaxPooling2D((2, 2)),\n",
        "        layers.Conv2D(64, (3, 3), activation='relu'),\n",
        "        layers.Flatten(),\n",
        "        layers.Dense(64, activation='relu'),\n",
        "        layers.Dense(num_classes, activation='softmax')\n",
        "    ])\n",
        "    return model\n",
        "\n",
        "# Input shape and number of classes\n",
        "\n",
        "\n",
        "# Create the CNN model\n",
        "simple_cnn_model = create_keras_model()\n",
        "\n",
        "# Display model summary\n",
        "simple_cnn_model.summary()"
      ],
      "metadata": {
        "colab": {
          "base_uri": "https://localhost:8080/"
        },
        "id": "razdFMckW86q",
        "outputId": "4d699186-2e3d-44cc-bba9-1eb1e982cb84"
      },
      "execution_count": 68,
      "outputs": [
        {
          "output_type": "stream",
          "name": "stdout",
          "text": [
            "Model: \"sequential_3\"\n",
            "_________________________________________________________________\n",
            " Layer (type)                Output Shape              Param #   \n",
            "=================================================================\n",
            " conv2d_10 (Conv2D)          (None, 26, 26, 32)        896       \n",
            "                                                                 \n",
            " max_pooling2d_8 (MaxPoolin  (None, 13, 13, 32)        0         \n",
            " g2D)                                                            \n",
            "                                                                 \n",
            " conv2d_11 (Conv2D)          (None, 11, 11, 64)        18496     \n",
            "                                                                 \n",
            " max_pooling2d_9 (MaxPoolin  (None, 5, 5, 64)          0         \n",
            " g2D)                                                            \n",
            "                                                                 \n",
            " conv2d_12 (Conv2D)          (None, 3, 3, 64)          36928     \n",
            "                                                                 \n",
            " flatten_3 (Flatten)         (None, 576)               0         \n",
            "                                                                 \n",
            " dense_7 (Dense)             (None, 64)                36928     \n",
            "                                                                 \n",
            " dense_8 (Dense)             (None, 9)                 585       \n",
            "                                                                 \n",
            "=================================================================\n",
            "Total params: 93833 (366.54 KB)\n",
            "Trainable params: 93833 (366.54 KB)\n",
            "Non-trainable params: 0 (0.00 Byte)\n",
            "_________________________________________________________________\n"
          ]
        }
      ]
    },
    {
      "cell_type": "code",
      "source": [
        "example_dataset = train_data.create_tf_dataset_for_client(train_data.client_ids[0])\n",
        "\n",
        "example_element = next(iter(example_dataset))\n",
        "\n",
        "example_element['skin_disease_encoded'].numpy()"
      ],
      "metadata": {
        "colab": {
          "base_uri": "https://localhost:8080/"
        },
        "id": "fZlMSGe6W-pK",
        "outputId": "d637f4be-8877-48bb-915f-f572671ad703"
      },
      "execution_count": 69,
      "outputs": [
        {
          "output_type": "execute_result",
          "data": {
            "text/plain": [
              "array([8], dtype=int32)"
            ]
          },
          "metadata": {},
          "execution_count": 69
        }
      ]
    },
    {
      "cell_type": "code",
      "source": [
        "preprocessed_example_dataset = preprocess(example_dataset)\n",
        "\n",
        "sample_batch = tf.nest.map_structure(lambda x: x.numpy(),\n",
        "                                     next(iter(preprocessed_example_dataset)))"
      ],
      "metadata": {
        "id": "O8blDwz8XBEq"
      },
      "execution_count": 70,
      "outputs": []
    },
    {
      "cell_type": "code",
      "source": [
        "preprocessed_example_dataset.element_spec"
      ],
      "metadata": {
        "colab": {
          "base_uri": "https://localhost:8080/"
        },
        "id": "SMWU7xJiXDUs",
        "outputId": "734189fb-8ffb-4124-cc3e-ceea4cf0936a"
      },
      "execution_count": 71,
      "outputs": [
        {
          "output_type": "execute_result",
          "data": {
            "text/plain": [
              "OrderedDict([('x',\n",
              "              TensorSpec(shape=(None, 28, 28, 3), dtype=tf.float32, name=None)),\n",
              "             ('y', TensorSpec(shape=(None, 1), dtype=tf.int32, name=None))])"
            ]
          },
          "metadata": {},
          "execution_count": 71
        }
      ]
    },
    {
      "cell_type": "code",
      "source": [
        "from keras.metrics import Recall, Precision\n",
        "\n",
        "def model_fn():\n",
        "    keras_model = create_keras_model()\n",
        "    return tff.learning.models.from_keras_model(\n",
        "        keras_model,\n",
        "        input_spec=preprocessed_example_dataset.element_spec,\n",
        "        loss=tf.keras.losses.SparseCategoricalCrossentropy(),\n",
        "        metrics=[tf.keras.metrics.SparseCategoricalAccuracy()])"
      ],
      "metadata": {
        "id": "GcBuyklbXE8R"
      },
      "execution_count": 72,
      "outputs": []
    },
    {
      "cell_type": "code",
      "source": [
        "iterative_process = tff.learning.algorithms.build_weighted_fed_avg(\n",
        "    model_fn,\n",
        "    client_optimizer_fn=lambda: tf.keras.optimizers.Adam(learning_rate=0.001))"
      ],
      "metadata": {
        "id": "ADBZFuSrXGXS"
      },
      "execution_count": 73,
      "outputs": []
    },
    {
      "cell_type": "code",
      "source": [
        "str(iterative_process.initialize.type_signature)"
      ],
      "metadata": {
        "colab": {
          "base_uri": "https://localhost:8080/",
          "height": 70
        },
        "id": "TkJd-LMCXH3p",
        "outputId": "18bf58da-ca4b-45c9-f632-e1f8c079f783"
      },
      "execution_count": 74,
      "outputs": [
        {
          "output_type": "execute_result",
          "data": {
            "text/plain": [
              "'( -> <global_model_weights=<trainable=<float32[3,3,3,32],float32[32],float32[3,3,32,64],float32[64],float32[3,3,64,64],float32[64],float32[576,64],float32[64],float32[64,9],float32[9]>,non_trainable=<>>,distributor=<>,client_work=<>,aggregator=<value_sum_process=<>,weight_sum_process=<>>,finalizer=<learning_rate=float32>>@SERVER)'"
            ],
            "application/vnd.google.colaboratory.intrinsic+json": {
              "type": "string"
            }
          },
          "metadata": {},
          "execution_count": 74
        }
      ]
    },
    {
      "cell_type": "code",
      "source": [
        "state = iterative_process.initialize()\n",
        "state, metrics = iterative_process.next(state, federated_train_data)\n",
        "print('round  1, metrics={}'.format(metrics))"
      ],
      "metadata": {
        "colab": {
          "base_uri": "https://localhost:8080/"
        },
        "id": "yZXrhGTKXTf6",
        "outputId": "c1b6e13f-9953-4b36-e612-3e7cda2e8f95"
      },
      "execution_count": 75,
      "outputs": [
        {
          "output_type": "stream",
          "name": "stdout",
          "text": [
            "round  1, metrics=OrderedDict([('distributor', ()), ('client_work', OrderedDict([('train', OrderedDict([('sparse_categorical_accuracy', 0.21616872), ('loss', 2.1192877), ('num_examples', 569), ('num_batches', 72)]))])), ('aggregator', OrderedDict([('mean_value', ()), ('mean_weight', ())])), ('finalizer', OrderedDict([('update_non_finite', 0)]))])\n"
          ]
        }
      ]
    },
    {
      "cell_type": "code",
      "source": [
        "# After training, save the model\n",
        "simple_cnn_model.save('skin_cancer_model.h5')\n"
      ],
      "metadata": {
        "colab": {
          "base_uri": "https://localhost:8080/"
        },
        "id": "hXyXepM-XNqs",
        "outputId": "c6420497-9cc4-42b3-dd67-25177d1e9480"
      },
      "execution_count": 76,
      "outputs": [
        {
          "output_type": "stream",
          "name": "stderr",
          "text": [
            "/usr/local/lib/python3.10/dist-packages/keras/src/engine/training.py:3079: UserWarning: You are saving your model as an HDF5 file via `model.save()`. This file format is considered legacy. We recommend using instead the native Keras format, e.g. `model.save('my_model.keras')`.\n",
            "  saving_api.save_model(\n"
          ]
        }
      ]
    },
    {
      "cell_type": "code",
      "source": [
        "import cv2\n",
        "import numpy as np\n",
        "from tensorflow.keras.models import load_model\n",
        "\n",
        "# Load the saved model\n",
        "loaded_model = load_model('skin_cancer_model.h5')\n",
        "\n",
        "# Define a function to preprocess new images\n",
        "def preprocess_image(image_path):\n",
        "    target_size = (28, 28)  # Ensure this matches the input shape of your model\n",
        "    img_array = cv2.imread(image_path, cv2.IMREAD_COLOR)  # Read image in color mode\n",
        "\n",
        "    # Resize image to target size\n",
        "    img_resize = cv2.resize(img_array, target_size)\n",
        "\n",
        "    # Normalize pixel values to [0, 1]\n",
        "    img_normalize = img_resize.astype(np.float32) / 255.0\n",
        "\n",
        "    # Add a batch dimension\n",
        "    img_normalized_batch = np.expand_dims(img_normalize, axis=0)\n",
        "\n",
        "    return img_normalized_batch\n",
        "\n",
        "# Example usage for making predictions on new image(s)\n",
        "new_image_path = '/content/Skin cancer ISIC The International Skin Imaging Collaboration/Test/actinic keratosis/ISIC_0010512.jpg'  # Replace with the path to your new image\n",
        "\n",
        "# Preprocess the new image\n",
        "new_image = preprocess_image(new_image_path)\n",
        "\n",
        "# Make predictions using the loaded model\n",
        "predictions = loaded_model.predict(new_image)\n",
        "\n",
        "# Display the predictions\n",
        "print(predictions)\n"
      ],
      "metadata": {
        "colab": {
          "base_uri": "https://localhost:8080/"
        },
        "id": "QmuFbmROYl0C",
        "outputId": "73172de1-0559-44c2-d1dd-3c915729f0b4"
      },
      "execution_count": 77,
      "outputs": [
        {
          "output_type": "stream",
          "name": "stderr",
          "text": [
            "WARNING:tensorflow:No training configuration found in the save file, so the model was *not* compiled. Compile it manually.\n"
          ]
        },
        {
          "output_type": "stream",
          "name": "stdout",
          "text": [
            "1/1 [==============================] - 0s 62ms/step\n",
            "[[0.10784444 0.11324544 0.11196733 0.13457085 0.11139758 0.09977899\n",
            "  0.10814907 0.10377938 0.10926685]]\n"
          ]
        }
      ]
    },
    {
      "cell_type": "code",
      "source": [
        "# Define class names\n",
        "class_names = [\n",
        "    \"actinic keratosis\",\n",
        "    \"basal cell carcinoma\",\n",
        "    \"dermatofibroma\",\n",
        "    \"melanoma\",\n",
        "    \"nevus\",\n",
        "    \"pigmented benign keratosis\",\n",
        "    \"seborrheic keratosis\",\n",
        "    \"squamous cell carcinoma\",\n",
        "    \"vascular lesion\"\n",
        "]\n",
        "\n",
        "# Load the saved model\n",
        "loaded_model = load_model('skin_cancer_model.h5')\n",
        "\n",
        "# Define a function to preprocess new images\n",
        "def preprocess_image(image_path):\n",
        "    target_size = (28, 28)  # Ensure this matches the input shape of your model\n",
        "    img_array = cv2.imread(image_path, cv2.IMREAD_COLOR)  # Read image in color mode\n",
        "\n",
        "    # Resize image to target size\n",
        "    img_resize = cv2.resize(img_array, target_size)\n",
        "\n",
        "    # Normalize pixel values to [0, 1]\n",
        "    img_normalize = img_resize.astype(np.float32) / 255.0\n",
        "\n",
        "    # Add a batch dimension\n",
        "    img_normalized_batch = np.expand_dims(img_normalize, axis=0)\n",
        "\n",
        "    return img_normalized_batch\n",
        "\n",
        "# Example usage for making predictions on new image(s)\n",
        "new_image_path = '/content/Skin cancer ISIC The International Skin Imaging Collaboration/Test/nevus/ISIC_0000000.jpg'  # Replace with the path to your new image\n",
        "\n",
        "# Preprocess the new image\n",
        "new_image = preprocess_image(new_image_path)\n",
        "\n",
        "# Make predictions using the loaded model\n",
        "predictions = loaded_model.predict(new_image)\n",
        "\n",
        "# Convert predictions to class names\n",
        "predicted_class_index = np.argmax(predictions)\n",
        "predicted_class_name = class_names[predicted_class_index]\n",
        "\n",
        "# Display the predicted class name\n",
        "print(\"Predicted class:\", predicted_class_name)\n"
      ],
      "metadata": {
        "colab": {
          "base_uri": "https://localhost:8080/"
        },
        "id": "EfkqkJjrY0OC",
        "outputId": "5f05336d-8b9b-47b6-c16f-c5a65488a6da"
      },
      "execution_count": 78,
      "outputs": [
        {
          "output_type": "stream",
          "name": "stderr",
          "text": [
            "WARNING:tensorflow:No training configuration found in the save file, so the model was *not* compiled. Compile it manually.\n"
          ]
        },
        {
          "output_type": "stream",
          "name": "stdout",
          "text": [
            "1/1 [==============================] - 0s 65ms/step\n",
            "Predicted class: melanoma\n"
          ]
        }
      ]
    },
    {
      "cell_type": "code",
      "source": [],
      "metadata": {
        "id": "O99KrsGpZb_j"
      },
      "execution_count": null,
      "outputs": []
    }
  ]
}