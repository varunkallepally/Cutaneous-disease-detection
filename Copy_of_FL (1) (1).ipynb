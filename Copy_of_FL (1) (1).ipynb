{
  "cells": [
    {
      "cell_type": "code",
      "execution_count": null,
      "metadata": {
        "colab": {
          "base_uri": "https://localhost:8080/"
        },
        "id": "huqLJhYRvYsx",
        "outputId": "f271319a-1ec6-4877-c661-5475da5168ae"
      },
      "outputs": [
        {
          "output_type": "stream",
          "name": "stdout",
          "text": [
            "Requirement already satisfied: tensorflow_federated in /usr/local/lib/python3.10/dist-packages (0.74.0)\n",
            "Requirement already satisfied: absl-py==1.*,>=1.0 in /usr/local/lib/python3.10/dist-packages (from tensorflow_federated) (1.4.0)\n",
            "Requirement already satisfied: attrs~=23.1 in /usr/local/lib/python3.10/dist-packages (from tensorflow_federated) (23.1.0)\n",
            "Requirement already satisfied: cachetools~=5.3 in /usr/local/lib/python3.10/dist-packages (from tensorflow_federated) (5.3.3)\n",
            "Requirement already satisfied: dm-tree==0.1.8 in /usr/local/lib/python3.10/dist-packages (from tensorflow_federated) (0.1.8)\n",
            "Requirement already satisfied: dp-accounting==0.4.3 in /usr/local/lib/python3.10/dist-packages (from tensorflow_federated) (0.4.3)\n",
            "Requirement already satisfied: farmhashpy==0.4.0 in /usr/local/lib/python3.10/dist-packages (from tensorflow_federated) (0.4.0)\n",
            "Requirement already satisfied: google-vizier==0.1.11 in /usr/local/lib/python3.10/dist-packages (from tensorflow_federated) (0.1.11)\n",
            "Requirement already satisfied: grpcio~=1.46 in /usr/local/lib/python3.10/dist-packages (from tensorflow_federated) (1.62.1)\n",
            "Requirement already satisfied: jaxlib==0.4.14 in /usr/local/lib/python3.10/dist-packages (from tensorflow_federated) (0.4.14)\n",
            "Requirement already satisfied: jax==0.4.14 in /usr/local/lib/python3.10/dist-packages (from tensorflow_federated) (0.4.14)\n",
            "Requirement already satisfied: numpy~=1.25 in /usr/local/lib/python3.10/dist-packages (from tensorflow_federated) (1.25.2)\n",
            "Requirement already satisfied: portpicker~=1.6 in /usr/local/lib/python3.10/dist-packages (from tensorflow_federated) (1.6.0)\n",
            "Requirement already satisfied: scipy~=1.9.3 in /usr/local/lib/python3.10/dist-packages (from tensorflow_federated) (1.9.3)\n",
            "Requirement already satisfied: semantic-version~=2.6 in /usr/local/lib/python3.10/dist-packages (from tensorflow_federated) (2.10.0)\n",
            "Requirement already satisfied: tensorflow-compression==2.14.*,>=2.14.0 in /usr/local/lib/python3.10/dist-packages (from tensorflow_federated) (2.14.0)\n",
            "Requirement already satisfied: tensorflow-model-optimization==0.7.5 in /usr/local/lib/python3.10/dist-packages (from tensorflow_federated) (0.7.5)\n",
            "Requirement already satisfied: tensorflow-privacy==0.9.0 in /usr/local/lib/python3.10/dist-packages (from tensorflow_federated) (0.9.0)\n",
            "Requirement already satisfied: tensorflow==2.14.*,>=2.14.0 in /usr/local/lib/python3.10/dist-packages (from tensorflow_federated) (2.14.1)\n",
            "Requirement already satisfied: tqdm~=4.64 in /usr/local/lib/python3.10/dist-packages (from tensorflow_federated) (4.66.2)\n",
            "Requirement already satisfied: typing-extensions==4.5.*,>=4.5.0 in /usr/local/lib/python3.10/dist-packages (from tensorflow_federated) (4.5.0)\n",
            "Requirement already satisfied: googleapis-common-protos==1.61.0 in /usr/local/lib/python3.10/dist-packages (from tensorflow_federated) (1.61.0)\n",
            "Requirement already satisfied: mpmath~=1.2 in /usr/local/lib/python3.10/dist-packages (from dp-accounting==0.4.3->tensorflow_federated) (1.3.0)\n",
            "Requirement already satisfied: protobuf>=3.6 in /usr/local/lib/python3.10/dist-packages (from google-vizier==0.1.11->tensorflow_federated) (4.25.3)\n",
            "Requirement already satisfied: grpcio-tools>=1.35.0 in /usr/local/lib/python3.10/dist-packages (from google-vizier==0.1.11->tensorflow_federated) (1.62.1)\n",
            "Requirement already satisfied: sqlalchemy<=1.4.20,>=1.4 in /usr/local/lib/python3.10/dist-packages (from google-vizier==0.1.11->tensorflow_federated) (1.4.20)\n",
            "Requirement already satisfied: ml-dtypes>=0.2.0 in /usr/local/lib/python3.10/dist-packages (from jax==0.4.14->tensorflow_federated) (0.2.0)\n",
            "Requirement already satisfied: opt-einsum in /usr/local/lib/python3.10/dist-packages (from jax==0.4.14->tensorflow_federated) (3.3.0)\n",
            "Requirement already satisfied: astunparse>=1.6.0 in /usr/local/lib/python3.10/dist-packages (from tensorflow==2.14.*,>=2.14.0->tensorflow_federated) (1.6.3)\n",
            "Requirement already satisfied: flatbuffers>=23.5.26 in /usr/local/lib/python3.10/dist-packages (from tensorflow==2.14.*,>=2.14.0->tensorflow_federated) (24.3.25)\n",
            "Requirement already satisfied: gast!=0.5.0,!=0.5.1,!=0.5.2,>=0.2.1 in /usr/local/lib/python3.10/dist-packages (from tensorflow==2.14.*,>=2.14.0->tensorflow_federated) (0.5.4)\n",
            "Requirement already satisfied: google-pasta>=0.1.1 in /usr/local/lib/python3.10/dist-packages (from tensorflow==2.14.*,>=2.14.0->tensorflow_federated) (0.2.0)\n",
            "Requirement already satisfied: h5py>=2.9.0 in /usr/local/lib/python3.10/dist-packages (from tensorflow==2.14.*,>=2.14.0->tensorflow_federated) (3.9.0)\n",
            "Requirement already satisfied: libclang>=13.0.0 in /usr/local/lib/python3.10/dist-packages (from tensorflow==2.14.*,>=2.14.0->tensorflow_federated) (18.1.1)\n",
            "Requirement already satisfied: packaging in /usr/local/lib/python3.10/dist-packages (from tensorflow==2.14.*,>=2.14.0->tensorflow_federated) (22.0)\n",
            "Requirement already satisfied: setuptools in /usr/local/lib/python3.10/dist-packages (from tensorflow==2.14.*,>=2.14.0->tensorflow_federated) (67.7.2)\n",
            "Requirement already satisfied: six>=1.12.0 in /usr/local/lib/python3.10/dist-packages (from tensorflow==2.14.*,>=2.14.0->tensorflow_federated) (1.16.0)\n",
            "Requirement already satisfied: termcolor>=1.1.0 in /usr/local/lib/python3.10/dist-packages (from tensorflow==2.14.*,>=2.14.0->tensorflow_federated) (2.4.0)\n",
            "Requirement already satisfied: wrapt<1.15,>=1.11.0 in /usr/local/lib/python3.10/dist-packages (from tensorflow==2.14.*,>=2.14.0->tensorflow_federated) (1.14.1)\n",
            "Requirement already satisfied: tensorflow-io-gcs-filesystem>=0.23.1 in /usr/local/lib/python3.10/dist-packages (from tensorflow==2.14.*,>=2.14.0->tensorflow_federated) (0.36.0)\n",
            "Requirement already satisfied: tensorboard<2.15,>=2.14 in /usr/local/lib/python3.10/dist-packages (from tensorflow==2.14.*,>=2.14.0->tensorflow_federated) (2.14.1)\n",
            "Requirement already satisfied: tensorflow-estimator<2.15,>=2.14.0 in /usr/local/lib/python3.10/dist-packages (from tensorflow==2.14.*,>=2.14.0->tensorflow_federated) (2.14.0)\n",
            "Requirement already satisfied: keras<2.15,>=2.14.0 in /usr/local/lib/python3.10/dist-packages (from tensorflow==2.14.*,>=2.14.0->tensorflow_federated) (2.14.0)\n",
            "Requirement already satisfied: tensorflow-probability~=0.15 in /usr/local/lib/python3.10/dist-packages (from tensorflow-compression==2.14.*,>=2.14.0->tensorflow_federated) (0.22.1)\n",
            "Requirement already satisfied: scikit-learn==1.*,>=1.0 in /usr/local/lib/python3.10/dist-packages (from tensorflow-privacy==0.9.0->tensorflow_federated) (1.2.2)\n",
            "Requirement already satisfied: joblib>=1.1.1 in /usr/local/lib/python3.10/dist-packages (from scikit-learn==1.*,>=1.0->tensorflow-privacy==0.9.0->tensorflow_federated) (1.3.2)\n",
            "Requirement already satisfied: threadpoolctl>=2.0.0 in /usr/local/lib/python3.10/dist-packages (from scikit-learn==1.*,>=1.0->tensorflow-privacy==0.9.0->tensorflow_federated) (3.4.0)\n",
            "Requirement already satisfied: psutil in /usr/local/lib/python3.10/dist-packages (from portpicker~=1.6->tensorflow_federated) (5.9.5)\n",
            "Requirement already satisfied: wheel<1.0,>=0.23.0 in /usr/local/lib/python3.10/dist-packages (from astunparse>=1.6.0->tensorflow==2.14.*,>=2.14.0->tensorflow_federated) (0.43.0)\n",
            "Requirement already satisfied: greenlet!=0.4.17 in /usr/local/lib/python3.10/dist-packages (from sqlalchemy<=1.4.20,>=1.4->google-vizier==0.1.11->tensorflow_federated) (3.0.3)\n",
            "Requirement already satisfied: google-auth<3,>=1.6.3 in /usr/local/lib/python3.10/dist-packages (from tensorboard<2.15,>=2.14->tensorflow==2.14.*,>=2.14.0->tensorflow_federated) (2.27.0)\n",
            "Requirement already satisfied: google-auth-oauthlib<1.1,>=0.5 in /usr/local/lib/python3.10/dist-packages (from tensorboard<2.15,>=2.14->tensorflow==2.14.*,>=2.14.0->tensorflow_federated) (1.0.0)\n",
            "Requirement already satisfied: markdown>=2.6.8 in /usr/local/lib/python3.10/dist-packages (from tensorboard<2.15,>=2.14->tensorflow==2.14.*,>=2.14.0->tensorflow_federated) (3.6)\n",
            "Requirement already satisfied: requests<3,>=2.21.0 in /usr/local/lib/python3.10/dist-packages (from tensorboard<2.15,>=2.14->tensorflow==2.14.*,>=2.14.0->tensorflow_federated) (2.31.0)\n",
            "Requirement already satisfied: tensorboard-data-server<0.8.0,>=0.7.0 in /usr/local/lib/python3.10/dist-packages (from tensorboard<2.15,>=2.14->tensorflow==2.14.*,>=2.14.0->tensorflow_federated) (0.7.2)\n",
            "Requirement already satisfied: werkzeug>=1.0.1 in /usr/local/lib/python3.10/dist-packages (from tensorboard<2.15,>=2.14->tensorflow==2.14.*,>=2.14.0->tensorflow_federated) (3.0.1)\n",
            "Requirement already satisfied: decorator in /usr/local/lib/python3.10/dist-packages (from tensorflow-probability~=0.15->tensorflow-compression==2.14.*,>=2.14.0->tensorflow_federated) (4.4.2)\n",
            "Requirement already satisfied: cloudpickle>=1.3 in /usr/local/lib/python3.10/dist-packages (from tensorflow-probability~=0.15->tensorflow-compression==2.14.*,>=2.14.0->tensorflow_federated) (2.2.1)\n",
            "Requirement already satisfied: pyasn1-modules>=0.2.1 in /usr/local/lib/python3.10/dist-packages (from google-auth<3,>=1.6.3->tensorboard<2.15,>=2.14->tensorflow==2.14.*,>=2.14.0->tensorflow_federated) (0.4.0)\n",
            "Requirement already satisfied: rsa<5,>=3.1.4 in /usr/local/lib/python3.10/dist-packages (from google-auth<3,>=1.6.3->tensorboard<2.15,>=2.14->tensorflow==2.14.*,>=2.14.0->tensorflow_federated) (4.9)\n",
            "Requirement already satisfied: requests-oauthlib>=0.7.0 in /usr/local/lib/python3.10/dist-packages (from google-auth-oauthlib<1.1,>=0.5->tensorboard<2.15,>=2.14->tensorflow==2.14.*,>=2.14.0->tensorflow_federated) (1.4.1)\n",
            "Requirement already satisfied: charset-normalizer<4,>=2 in /usr/local/lib/python3.10/dist-packages (from requests<3,>=2.21.0->tensorboard<2.15,>=2.14->tensorflow==2.14.*,>=2.14.0->tensorflow_federated) (3.3.2)\n",
            "Requirement already satisfied: idna<4,>=2.5 in /usr/local/lib/python3.10/dist-packages (from requests<3,>=2.21.0->tensorboard<2.15,>=2.14->tensorflow==2.14.*,>=2.14.0->tensorflow_federated) (3.6)\n",
            "Requirement already satisfied: urllib3<3,>=1.21.1 in /usr/local/lib/python3.10/dist-packages (from requests<3,>=2.21.0->tensorboard<2.15,>=2.14->tensorflow==2.14.*,>=2.14.0->tensorflow_federated) (2.0.7)\n",
            "Requirement already satisfied: certifi>=2017.4.17 in /usr/local/lib/python3.10/dist-packages (from requests<3,>=2.21.0->tensorboard<2.15,>=2.14->tensorflow==2.14.*,>=2.14.0->tensorflow_federated) (2024.2.2)\n",
            "Requirement already satisfied: MarkupSafe>=2.1.1 in /usr/local/lib/python3.10/dist-packages (from werkzeug>=1.0.1->tensorboard<2.15,>=2.14->tensorflow==2.14.*,>=2.14.0->tensorflow_federated) (2.1.5)\n",
            "Requirement already satisfied: pyasn1<0.7.0,>=0.4.6 in /usr/local/lib/python3.10/dist-packages (from pyasn1-modules>=0.2.1->google-auth<3,>=1.6.3->tensorboard<2.15,>=2.14->tensorflow==2.14.*,>=2.14.0->tensorflow_federated) (0.6.0)\n",
            "Requirement already satisfied: oauthlib>=3.0.0 in /usr/local/lib/python3.10/dist-packages (from requests-oauthlib>=0.7.0->google-auth-oauthlib<1.1,>=0.5->tensorboard<2.15,>=2.14->tensorflow==2.14.*,>=2.14.0->tensorflow_federated) (3.2.2)\n"
          ]
        }
      ],
      "source": [
        "pip install tensorflow_federated"
      ]
    },
    {
      "cell_type": "code",
      "execution_count": null,
      "metadata": {
        "colab": {
          "base_uri": "https://localhost:8080/"
        },
        "id": "RsYO3dEN1cwx",
        "outputId": "c0d7223e-b575-4620-8f39-fcc555a677ce"
      },
      "outputs": [
        {
          "output_type": "stream",
          "name": "stdout",
          "text": [
            "                                          image_path          skin_disease  \\\n",
            "0  /content/drive/MyDrive/archive (1)/Skin cancer...  seborrheic keratosis   \n",
            "1  /content/drive/MyDrive/archive (1)/Skin cancer...  seborrheic keratosis   \n",
            "2  /content/drive/MyDrive/archive (1)/Skin cancer...  seborrheic keratosis   \n",
            "3  /content/drive/MyDrive/archive (1)/Skin cancer...  seborrheic keratosis   \n",
            "4  /content/drive/MyDrive/archive (1)/Skin cancer...  seborrheic keratosis   \n",
            "\n",
            "                                          image_data  skin_disease_encoded  \n",
            "0  [[0.6509804, 0.654902, 0.6627451, 0.6666667, 0...                     6  \n",
            "1  [[0.6509804, 0.654902, 0.6627451, 0.6666667, 0...                     6  \n",
            "2  [[0.6509804, 0.654902, 0.6627451, 0.6666667, 0...                     6  \n",
            "3  [[0.6509804, 0.654902, 0.6627451, 0.6666667, 0...                     6  \n",
            "4  [[0.6509804, 0.654902, 0.6627451, 0.6666667, 0...                     6  \n"
          ]
        }
      ],
      "source": [
        "import pandas as pd\n",
        "import os\n",
        "import glob\n",
        "from sklearn.preprocessing import LabelEncoder\n",
        "from skimage import io\n",
        "import cv2\n",
        "import numpy as np\n",
        "\n",
        "# Define the root directory where your data is stored\n",
        "root_dir = '/content/drive/MyDrive/archive (1)/Skin cancer ISIC The International Skin Imaging Collaboration'\n",
        "\n",
        "# Initialize empty lists to store file paths and corresponding labels\n",
        "image_paths = []\n",
        "skin_diseases = []\n",
        "\n",
        "# Iterate through each folder within train and test directories\n",
        "for subdir in ['Train', 'Test']:\n",
        "    # Iterate through each skin disease folder\n",
        "    for disease_folder in os.listdir(os.path.join(root_dir, subdir)):\n",
        "        # Construct path to the current disease folder\n",
        "        disease_folder_path = os.path.join(root_dir, subdir, disease_folder)\n",
        "\n",
        "        # Iterate through each image file within the disease folder\n",
        "        for img_path in glob.glob(os.path.join(disease_folder_path, '*.jpg')):\n",
        "            # Append the image path\n",
        "            image_paths.append(img_path)\n",
        "            # Append the corresponding skin disease label\n",
        "            skin_diseases.append(disease_folder)\n",
        "\n",
        "# Create a DataFrame from the lists\n",
        "df = pd.DataFrame({'image_path': image_paths, 'skin_disease': skin_diseases})\n",
        "def read_image(image_path):\n",
        "    target_size=((784, 3))\n",
        "    img_array = cv2.imread(img_path, cv2.IMREAD_GRAYSCALE)\n",
        "\n",
        "    # Resize image to target size\n",
        "    img_resize = cv2.resize(img_array, target_size)\n",
        "\n",
        "    # Normalize pixel values to [0, 1]\n",
        "    img_normalize = img_resize.astype(np.float32) / 255.0\n",
        "\n",
        "    return img_normalize\n",
        "\n",
        "# Apply the read_image function to create the 'image_data' column\n",
        "df['image_data'] = df['image_path'].apply(read_image)\n",
        "\n",
        "# Label encode the 'skin_disease' column\n",
        "label_encoder = LabelEncoder()\n",
        "df['skin_disease_encoded'] = label_encoder.fit_transform(df['skin_disease'])\n",
        "\n",
        "# Display the first few rows of the DataFrame\n",
        "print(df.head())"
      ]
    },
    {
      "cell_type": "code",
      "execution_count": null,
      "metadata": {
        "id": "WJPl0unw8uKI",
        "colab": {
          "base_uri": "https://localhost:8080/"
        },
        "outputId": "755f1ef3-8b99-4301-a69d-6cb178601036"
      },
      "outputs": [
        {
          "output_type": "stream",
          "name": "stdout",
          "text": [
            "                                             image_data  skin_disease_encoded\n",
            "0     [[0.6509804, 0.654902, 0.6627451, 0.6666667, 0...                     6\n",
            "1     [[0.6509804, 0.654902, 0.6627451, 0.6666667, 0...                     6\n",
            "2     [[0.6509804, 0.654902, 0.6627451, 0.6666667, 0...                     6\n",
            "3     [[0.6509804, 0.654902, 0.6627451, 0.6666667, 0...                     6\n",
            "4     [[0.6509804, 0.654902, 0.6627451, 0.6666667, 0...                     6\n",
            "...                                                 ...                   ...\n",
            "2352  [[0.6509804, 0.654902, 0.6627451, 0.6666667, 0...                     0\n",
            "2353  [[0.6509804, 0.654902, 0.6627451, 0.6666667, 0...                     0\n",
            "2354  [[0.6509804, 0.654902, 0.6627451, 0.6666667, 0...                     0\n",
            "2355  [[0.6509804, 0.654902, 0.6627451, 0.6666667, 0...                     0\n",
            "2356  [[0.6509804, 0.654902, 0.6627451, 0.6666667, 0...                     0\n",
            "\n",
            "[2357 rows x 2 columns]\n"
          ]
        }
      ],
      "source": [
        "columns_to_remove = ['image_path', 'skin_disease']\n",
        "\n",
        "# Drop the specified columns\n",
        "df.drop(columns=columns_to_remove, inplace=True)\n",
        "\n",
        "# Display the DataFrame after removing columns\n",
        "print(df)"
      ]
    },
    {
      "cell_type": "code",
      "execution_count": null,
      "metadata": {
        "id": "kfbkjCu99kZk"
      },
      "outputs": [],
      "source": [
        "import random\n",
        "\n",
        "num_client = 5\n",
        "\n",
        "df[\"client\"] = [\"client_{}\".format(random.randint(1, num_client)) for _ in range(df.shape[0])]"
      ]
    },
    {
      "cell_type": "code",
      "execution_count": null,
      "metadata": {
        "id": "0bV_rrtA9tl0"
      },
      "outputs": [],
      "source": [
        "client_id_colname = 'client'\n",
        "\n",
        "client_ids = df[client_id_colname].unique()\n",
        "\n",
        "train_client_ids = pd.DataFrame(client_ids).sample(frac=0.8).values.ravel().tolist()\n",
        "test_client_ids = [x for x in client_ids if x not in train_client_ids]"
      ]
    },
    {
      "cell_type": "code",
      "execution_count": null,
      "metadata": {
        "colab": {
          "base_uri": "https://localhost:8080/"
        },
        "id": "cnAqBpQb0jNM",
        "outputId": "ce91a07b-bdb4-4da1-8899-e0b93d580cb8"
      },
      "outputs": [
        {
          "output_type": "stream",
          "name": "stdout",
          "text": [
            "Mounted at /content/drive\n"
          ]
        }
      ],
      "source": [
        "from google.colab import drive\n",
        "drive.mount('/content/drive')"
      ]
    },
    {
      "cell_type": "code",
      "execution_count": null,
      "metadata": {
        "id": "TD5je4xMttDQ"
      },
      "outputs": [],
      "source": [
        "import nest_asyncio\n",
        "nest_asyncio.apply()"
      ]
    },
    {
      "cell_type": "code",
      "execution_count": null,
      "metadata": {
        "id": "YfN-N2yGuET_"
      },
      "outputs": [],
      "source": [
        "%load_ext tensorboard"
      ]
    },
    {
      "cell_type": "code",
      "execution_count": null,
      "metadata": {
        "colab": {
          "base_uri": "https://localhost:8080/"
        },
        "id": "xNQOl-nluRUW",
        "outputId": "3a766ccd-d9cb-49b9-f3b8-69a32ba58102"
      },
      "outputs": [
        {
          "data": {
            "text/plain": [
              "['client_5', 'client_1', 'client_3', 'client_2']"
            ]
          },
          "execution_count": 6,
          "metadata": {},
          "output_type": "execute_result"
        }
      ],
      "source": [
        "train_client_ids"
      ]
    },
    {
      "cell_type": "code",
      "execution_count": null,
      "metadata": {
        "id": "sOu217ns6TVS"
      },
      "outputs": [],
      "source": [
        "from sklearn.model_selection import train_test_split\n",
        "\n",
        "train_df, test_df = train_test_split(df, test_size=0.3, random_state=42)"
      ]
    },
    {
      "cell_type": "code",
      "source": [
        "train_df.drop(columns=['client'], inplace=True)"
      ],
      "metadata": {
        "id": "9cRblB0n1Wyd"
      },
      "execution_count": null,
      "outputs": []
    },
    {
      "cell_type": "code",
      "execution_count": null,
      "metadata": {
        "id": "5gGE61tA5qQD"
      },
      "outputs": [],
      "source": [
        "features =\"image_data\""
      ]
    },
    {
      "cell_type": "code",
      "execution_count": null,
      "metadata": {
        "id": "oD8S1cmyuTxJ"
      },
      "outputs": [],
      "source": [
        "from collections import OrderedDict\n",
        "import tensorflow as tf\n",
        "import numpy as np\n",
        "\n",
        "NUM_EPOCHS = 1\n",
        "SHUFFLE_BUFFER = 100\n",
        "\n",
        "def create_tf_dataset_for_client_fn(client_id):\n",
        "    client_data = dataframe[dataframe[client_id_colname] == client_id]\n",
        "    client_data_dict = OrderedDict()\n",
        "    client_data_dict[\"image_data\"] = np.array(client_data['image_data'].values.tolist(), dtype=\"float32\")\n",
        "    client_data_dict[\"skin_disease_encoded\"] = np.array(client_data['skin_disease_encoded'].values.tolist(), dtype=\"int32\")\n",
        "\n",
        "    dataset = tf.data.Dataset.from_tensor_slices(client_data_dict)\n",
        "    dataset = dataset.shuffle(SHUFFLE_BUFFER).batch(1).repeat(NUM_EPOCHS)\n",
        "    return dataset"
      ]
    },
    {
      "cell_type": "code",
      "execution_count": null,
      "metadata": {
        "id": "d5EzgzPg5B12"
      },
      "outputs": [],
      "source": [
        "import tensorflow_federated as tff"
      ]
    },
    {
      "cell_type": "code",
      "execution_count": null,
      "metadata": {
        "id": "fctdicequgU0"
      },
      "outputs": [],
      "source": [
        "dataframe = train_df\n",
        "train_data = tff.simulation.datasets.ClientData.from_clients_and_tf_fn(\n",
        "    client_ids=train_client_ids,\n",
        "    serializable_dataset_fn=create_tf_dataset_for_client_fn)\n",
        "\n",
        "dataframe = test_df\n",
        "test_data = tff.simulation.datasets.ClientData.from_clients_and_tf_fn(\n",
        "    client_ids=test_client_ids,\n",
        "    serializable_dataset_fn=create_tf_dataset_for_client_fn)"
      ]
    },
    {
      "cell_type": "code",
      "execution_count": null,
      "metadata": {
        "colab": {
          "base_uri": "https://localhost:8080/"
        },
        "id": "nAL3CJfsuojI",
        "outputId": "0278fd0d-6773-4a3e-ffe8-bdd453a60271"
      },
      "outputs": [
        {
          "data": {
            "text/plain": [
              "OrderedDict([('image_data',\n",
              "              TensorSpec(shape=(None, 3, 784), dtype=tf.float32, name=None)),\n",
              "             ('skin_disease_encoded',\n",
              "              TensorSpec(shape=(None,), dtype=tf.int32, name=None))])"
            ]
          },
          "execution_count": 12,
          "metadata": {},
          "output_type": "execute_result"
        }
      ],
      "source": [
        "train_data.element_type_structure"
      ]
    },
    {
      "cell_type": "code",
      "execution_count": null,
      "metadata": {
        "id": "5ZFJ8kXzurqn"
      },
      "outputs": [],
      "source": [
        "import collections\n",
        "\n",
        "NUM_EPOCHS = 1\n",
        "BATCH_SIZE = 10\n",
        "SHUFFLE_BUFFER = 100\n",
        "PREFETCH_BUFFER = 10\n",
        "\n",
        "def preprocess(dataset):\n",
        "    def batch_format_fn(element):\n",
        "        return collections.OrderedDict(x=tf.reshape(element['image_data'], [-1,28,28,3]),\n",
        "                                       y=tf.reshape(element['skin_disease_encoded'], [-1, 1]))\n",
        "\n",
        "    return dataset.repeat(NUM_EPOCHS).shuffle(SHUFFLE_BUFFER, seed=1).batch(\n",
        "      BATCH_SIZE).map(batch_format_fn).prefetch(PREFETCH_BUFFER)"
      ]
    },
    {
      "cell_type": "code",
      "execution_count": null,
      "metadata": {
        "id": "66xawggluxcH"
      },
      "outputs": [],
      "source": [
        "from tqdm import tqdm\n",
        "\n",
        "def make_federated_data(client_data, client_ids):\n",
        "    return [preprocess(client_data.create_tf_dataset_for_client(x)) for x in tqdm(client_ids)]"
      ]
    },
    {
      "cell_type": "code",
      "execution_count": null,
      "metadata": {
        "colab": {
          "base_uri": "https://localhost:8080/"
        },
        "id": "Ty_EXCnDu2W-",
        "outputId": "3db14b24-8578-4eab-f053-65a97ad0f4c1"
      },
      "outputs": [
        {
          "name": "stderr",
          "output_type": "stream",
          "text": [
            "100%|██████████| 4/4 [00:00<00:00, 29.22it/s]"
          ]
        },
        {
          "name": "stdout",
          "output_type": "stream",
          "text": [
            "Number of client datasets: 4\n",
            "First dataset: <_PrefetchDataset element_spec=OrderedDict([('x', TensorSpec(shape=(None, 28, 28, 3), dtype=tf.float32, name=None)), ('y', TensorSpec(shape=(None, 1), dtype=tf.int32, name=None))])>\n"
          ]
        },
        {
          "name": "stderr",
          "output_type": "stream",
          "text": [
            "\n"
          ]
        }
      ],
      "source": [
        "NUM_CLIENTS = len(np.unique(train_df[client_id_colname]))\n",
        "\n",
        "sample_clients = train_data.client_ids[0:NUM_CLIENTS]\n",
        "\n",
        "federated_train_data = make_federated_data(train_data, sample_clients)\n",
        "\n",
        "print('Number of client datasets: {l}'.format(l=len(federated_train_data)))\n",
        "print('First dataset: {d}'.format(d=federated_train_data[0]))"
      ]
    },
    {
      "cell_type": "code",
      "execution_count": null,
      "metadata": {
        "colab": {
          "base_uri": "https://localhost:8080/"
        },
        "id": "poUGVdJau5Oo",
        "outputId": "8b81ebff-5e5b-4deb-a3f1-62576cf36b2f"
      },
      "outputs": [
        {
          "output_type": "stream",
          "name": "stdout",
          "text": [
            "Model: \"sequential_3\"\n",
            "_________________________________________________________________\n",
            " Layer (type)                Output Shape              Param #   \n",
            "=================================================================\n",
            " conv2d_9 (Conv2D)           (None, 26, 26, 32)        896       \n",
            "                                                                 \n",
            " max_pooling2d_6 (MaxPoolin  (None, 13, 13, 32)        0         \n",
            " g2D)                                                            \n",
            "                                                                 \n",
            " conv2d_10 (Conv2D)          (None, 11, 11, 64)        18496     \n",
            "                                                                 \n",
            " max_pooling2d_7 (MaxPoolin  (None, 5, 5, 64)          0         \n",
            " g2D)                                                            \n",
            "                                                                 \n",
            " conv2d_11 (Conv2D)          (None, 3, 3, 64)          36928     \n",
            "                                                                 \n",
            " flatten_3 (Flatten)         (None, 576)               0         \n",
            "                                                                 \n",
            " dense_6 (Dense)             (None, 64)                36928     \n",
            "                                                                 \n",
            " dense_7 (Dense)             (None, 9)                 585       \n",
            "                                                                 \n",
            "=================================================================\n",
            "Total params: 93833 (366.54 KB)\n",
            "Trainable params: 93833 (366.54 KB)\n",
            "Non-trainable params: 0 (0.00 Byte)\n",
            "_________________________________________________________________\n"
          ]
        }
      ],
      "source": [
        "import tensorflow as tf\n",
        "from tensorflow.keras import layers, models\n",
        "input_shape = (28, 28, 3)\n",
        "num_classes = 9\n",
        "def create_keras_model():\n",
        "    model = models.Sequential([\n",
        "        layers.Conv2D(32, (3, 3), activation='relu', input_shape=input_shape),\n",
        "        layers.MaxPooling2D((2, 2)),\n",
        "        layers.Conv2D(64, (3, 3), activation='relu'),\n",
        "        layers.MaxPooling2D((2, 2)),\n",
        "        layers.Conv2D(64, (3, 3), activation='relu'),\n",
        "        layers.Flatten(),\n",
        "        layers.Dense(64, activation='relu'),\n",
        "        layers.Dense(num_classes, activation='softmax')\n",
        "    ])\n",
        "    return model\n",
        "\n",
        "# Input shape and number of classes\n",
        "\n",
        "\n",
        "# Create the CNN model\n",
        "simple_cnn_model = create_keras_model()\n",
        "\n",
        "# Display model summary\n",
        "simple_cnn_model.summary()"
      ]
    },
    {
      "cell_type": "code",
      "execution_count": null,
      "metadata": {
        "colab": {
          "base_uri": "https://localhost:8080/"
        },
        "id": "HOOdP_bd_1TW",
        "outputId": "08c65a7b-09b3-4be3-ecc2-bf6999ac2092"
      },
      "outputs": [
        {
          "data": {
            "text/plain": [
              "array([4], dtype=int32)"
            ]
          },
          "execution_count": 17,
          "metadata": {},
          "output_type": "execute_result"
        }
      ],
      "source": [
        "example_dataset = train_data.create_tf_dataset_for_client(train_data.client_ids[0])\n",
        "\n",
        "example_element = next(iter(example_dataset))\n",
        "\n",
        "example_element['skin_disease_encoded'].numpy()"
      ]
    },
    {
      "cell_type": "code",
      "execution_count": null,
      "metadata": {
        "id": "UO0SsKGp_6SX"
      },
      "outputs": [],
      "source": [
        "preprocessed_example_dataset = preprocess(example_dataset)\n",
        "\n",
        "sample_batch = tf.nest.map_structure(lambda x: x.numpy(),\n",
        "                                     next(iter(preprocessed_example_dataset)))"
      ]
    },
    {
      "cell_type": "code",
      "execution_count": null,
      "metadata": {
        "colab": {
          "base_uri": "https://localhost:8080/"
        },
        "id": "ZQIz3Y5hCBis",
        "outputId": "e23e1951-2f6d-4ff8-df52-31e9306b1f92"
      },
      "outputs": [
        {
          "data": {
            "text/plain": [
              "OrderedDict([('x',\n",
              "              TensorSpec(shape=(None, 28, 28, 3), dtype=tf.float32, name=None)),\n",
              "             ('y', TensorSpec(shape=(None, 1), dtype=tf.int32, name=None))])"
            ]
          },
          "execution_count": 19,
          "metadata": {},
          "output_type": "execute_result"
        }
      ],
      "source": [
        "preprocessed_example_dataset.element_spec"
      ]
    },
    {
      "cell_type": "code",
      "execution_count": null,
      "metadata": {
        "id": "DfGtbNPNu-Sg"
      },
      "outputs": [],
      "source": [
        "from keras.metrics import Recall, Precision\n",
        "\n",
        "def model_fn():\n",
        "    keras_model = create_keras_model()\n",
        "    return tff.learning.models.from_keras_model(\n",
        "        keras_model,\n",
        "        input_spec=preprocessed_example_dataset.element_spec,\n",
        "        loss=tf.keras.losses.SparseCategoricalCrossentropy(),\n",
        "        metrics=[tf.keras.metrics.SparseCategoricalAccuracy()])"
      ]
    },
    {
      "cell_type": "code",
      "execution_count": null,
      "metadata": {
        "id": "0JlI5MCBvDBs"
      },
      "outputs": [],
      "source": [
        "iterative_process = tff.learning.algorithms.build_weighted_fed_avg(\n",
        "    model_fn,\n",
        "    client_optimizer_fn=lambda: tf.keras.optimizers.Adam(learning_rate=0.001))"
      ]
    },
    {
      "cell_type": "code",
      "execution_count": null,
      "metadata": {
        "colab": {
          "base_uri": "https://localhost:8080/",
          "height": 209
        },
        "id": "yvncHzkpSvvZ",
        "outputId": "6bb52b45-7566-445a-83d8-c8e8728e2ed7"
      },
      "outputs": [
        {
          "output_type": "execute_result",
          "data": {
            "text/plain": [
              "'( -> <global_model_weights=<trainable=<float32[3,3,3,32],float32[32],float32[3,3,32,64],float32[64],float32[3,3,64,64],float32[64],float32[576,64],float32[64],float32[64,9],float32[9]>,non_trainable=<>>,distributor=<>,client_work=<>,aggregator=<value_sum_process=<>,weight_sum_process=<>>,finalizer=<learning_rate=float32>>@SERVER)'"
            ],
            "application/vnd.google.colaboratory.intrinsic+json": {
              "type": "string"
            }
          },
          "metadata": {},
          "execution_count": 67
        }
      ],
      "source": [
        "str(iterative_process.initialize.type_signature)"
      ]
    },
    {
      "cell_type": "code",
      "execution_count": null,
      "metadata": {
        "id": "McSAcknsvGdJ"
      },
      "outputs": [],
      "source": [
        "state = iterative_process.initialize()"
      ]
    },
    {
      "cell_type": "code",
      "execution_count": null,
      "metadata": {
        "colab": {
          "base_uri": "https://localhost:8080/",
          "height": 315
        },
        "id": "FCF_LfhzvJTe",
        "outputId": "6b1e650a-cbc8-4c93-dd2f-3f544ab1a1b3"
      },
      "outputs": [
        {
          "ename": "NameError",
          "evalue": "name 'state' is not defined",
          "output_type": "error",
          "traceback": [
            "\u001b[0;31m---------------------------------------------------------------------------\u001b[0m",
            "\u001b[0;31mNameError\u001b[0m                                 Traceback (most recent call last)",
            "\u001b[0;32m<ipython-input-28-39d62fa827ea>\u001b[0m in \u001b[0;36m<cell line: 1>\u001b[0;34m()\u001b[0m\n\u001b[0;32m----> 1\u001b[0;31m \u001b[0mstate\u001b[0m\u001b[0;34m,\u001b[0m \u001b[0mmetrics\u001b[0m \u001b[0;34m=\u001b[0m \u001b[0miterative_process\u001b[0m\u001b[0;34m.\u001b[0m\u001b[0mnext\u001b[0m\u001b[0;34m(\u001b[0m\u001b[0mstate\u001b[0m\u001b[0;34m,\u001b[0m \u001b[0mfederated_train_data\u001b[0m\u001b[0;34m)\u001b[0m\u001b[0;34m\u001b[0m\u001b[0;34m\u001b[0m\u001b[0m\n\u001b[0m\u001b[1;32m      2\u001b[0m \u001b[0mprint\u001b[0m\u001b[0;34m(\u001b[0m\u001b[0;34m'round  1, metrics={}'\u001b[0m\u001b[0;34m.\u001b[0m\u001b[0mformat\u001b[0m\u001b[0;34m(\u001b[0m\u001b[0mmetrics\u001b[0m\u001b[0;34m)\u001b[0m\u001b[0;34m)\u001b[0m\u001b[0;34m\u001b[0m\u001b[0;34m\u001b[0m\u001b[0m\n",
            "\u001b[0;31mNameError\u001b[0m: name 'state' is not defined"
          ]
        }
      ],
      "source": [
        "state, metrics = iterative_process.next(state, federated_train_data)\n",
        "print('round  1, metrics={}'.format(metrics))"
      ]
    },
    {
      "cell_type": "code",
      "execution_count": null,
      "metadata": {
        "id": "ahB5G3FeuT4G"
      },
      "outputs": [],
      "source": []
    }
  ],
  "metadata": {
    "colab": {
      "provenance": [],
      "gpuType": "T4"
    },
    "kernelspec": {
      "display_name": "Python 3",
      "name": "python3"
    },
    "language_info": {
      "name": "python"
    },
    "accelerator": "GPU"
  },
  "nbformat": 4,
  "nbformat_minor": 0
}